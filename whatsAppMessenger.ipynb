{
 "cells": [
  {
   "cell_type": "code",
   "execution_count": 109,
   "id": "e8dc6857-9a02-4800-9f81-c3097e5cf811",
   "metadata": {},
   "outputs": [
    {
     "name": "stdout",
     "output_type": "stream",
     "text": [
      "Requirement already satisfied: selenium in c:\\users\\user\\anaconda3\\lib\\site-packages (4.24.0)Note: you may need to restart the kernel to use updated packages.\n",
      "\n",
      "Requirement already satisfied: urllib3<3,>=1.26 in c:\\users\\user\\anaconda3\\lib\\site-packages (from urllib3[socks]<3,>=1.26->selenium) (2.0.7)\n",
      "Requirement already satisfied: trio~=0.17 in c:\\users\\user\\anaconda3\\lib\\site-packages (from selenium) (0.26.2)\n",
      "Requirement already satisfied: trio-websocket~=0.9 in c:\\users\\user\\anaconda3\\lib\\site-packages (from selenium) (0.11.1)\n",
      "Requirement already satisfied: certifi>=2021.10.8 in c:\\users\\user\\anaconda3\\lib\\site-packages (from selenium) (2024.2.2)\n",
      "Requirement already satisfied: typing_extensions~=4.9 in c:\\users\\user\\anaconda3\\lib\\site-packages (from selenium) (4.9.0)\n",
      "Requirement already satisfied: websocket-client~=1.8 in c:\\users\\user\\anaconda3\\lib\\site-packages (from selenium) (1.8.0)\n",
      "Requirement already satisfied: attrs>=23.2.0 in c:\\users\\user\\anaconda3\\lib\\site-packages (from trio~=0.17->selenium) (24.2.0)\n",
      "Requirement already satisfied: sortedcontainers in c:\\users\\user\\anaconda3\\lib\\site-packages (from trio~=0.17->selenium) (2.4.0)\n",
      "Requirement already satisfied: idna in c:\\users\\user\\anaconda3\\lib\\site-packages (from trio~=0.17->selenium) (3.4)\n",
      "Requirement already satisfied: outcome in c:\\users\\user\\anaconda3\\lib\\site-packages (from trio~=0.17->selenium) (1.3.0.post0)\n",
      "Requirement already satisfied: sniffio>=1.3.0 in c:\\users\\user\\anaconda3\\lib\\site-packages (from trio~=0.17->selenium) (1.3.0)\n",
      "Requirement already satisfied: cffi>=1.14 in c:\\users\\user\\anaconda3\\lib\\site-packages (from trio~=0.17->selenium) (1.16.0)\n",
      "Requirement already satisfied: wsproto>=0.14 in c:\\users\\user\\anaconda3\\lib\\site-packages (from trio-websocket~=0.9->selenium) (1.2.0)\n",
      "Requirement already satisfied: pysocks!=1.5.7,<2.0,>=1.5.6 in c:\\users\\user\\anaconda3\\lib\\site-packages (from urllib3[socks]<3,>=1.26->selenium) (1.7.1)\n",
      "Requirement already satisfied: pycparser in c:\\users\\user\\anaconda3\\lib\\site-packages (from cffi>=1.14->trio~=0.17->selenium) (2.21)\n",
      "Requirement already satisfied: h11<1,>=0.9.0 in c:\\users\\user\\anaconda3\\lib\\site-packages (from wsproto>=0.14->trio-websocket~=0.9->selenium) (0.14.0)\n"
     ]
    }
   ],
   "source": [
    "pip install selenium"
   ]
  },
  {
   "cell_type": "code",
   "execution_count": 110,
   "id": "9894fa03-c27b-4bbf-b455-7ee96eccd109",
   "metadata": {},
   "outputs": [
    {
     "name": "stdout",
     "output_type": "stream",
     "text": [
      "Requirement already satisfied: xlrd in c:\\users\\user\\anaconda3\\lib\\site-packages (2.0.1)\n",
      "Note: you may need to restart the kernel to use updated packages.\n"
     ]
    }
   ],
   "source": [
    "pip install xlrd"
   ]
  },
  {
   "cell_type": "code",
   "execution_count": 111,
   "id": "0dd919ae-b32f-40dc-8aba-6900bbe766d6",
   "metadata": {},
   "outputs": [],
   "source": [
    "import xlrd"
   ]
  },
  {
   "cell_type": "code",
   "execution_count": 112,
   "id": "224a99c3-ec75-4e08-80b7-e3894d87e636",
   "metadata": {},
   "outputs": [],
   "source": [
    "from selenium import webdriver\n",
    "from selenium.webdriver.chrome.options import Options\n",
    "from selenium.webdriver.support.ui import WebDriverWait\n",
    "from selenium.webdriver.common.keys import Keys\n",
    "from selenium.webdriver.common.action_chains import ActionChains\n",
    "from selenium.common.exceptions import NoSuchElementException\n",
    "from selenium.webdriver.chrome.service import Service\n",
    "from selenium.webdriver.common.by import By\n",
    "import pandas as pd\n",
    "import time\n",
    "import openpyxl"
   ]
  },
  {
   "cell_type": "code",
   "execution_count": 113,
   "id": "bbc77120-5ab2-4d4b-94d7-e5ed5ddc8156",
   "metadata": {},
   "outputs": [],
   "source": [
    "# store user login details\n",
    "chrome_options = Options()\n",
    "chrome_options.add_argument(\"--user-data-dir=user-data\")"
   ]
  },
  {
   "cell_type": "code",
   "execution_count": 114,
   "id": "88ea9efc-2349-4ce1-a9a1-7729f632bf90",
   "metadata": {
    "scrolled": true
   },
   "outputs": [
    {
     "name": "stdout",
     "output_type": "stream",
     "text": [
      "Chrome opened successfully!\n"
     ]
    }
   ],
   "source": [
    "\n",
    "\n",
    "chrome_options = webdriver.ChromeOptions()\n",
    "\n",
    "# Set the correct executable path with Service\n",
    "service = Service(executable_path=r\"C:\\chromedriver-win64\\chromedriver.exe\")\n",
    "\n",
    "# Use the service in your Chrome WebDriver instance\n",
    "driver = webdriver.Chrome(service=service, options=chrome_options)\n",
    "\n",
    "# Initialize WebDriverWait\n",
    "wait = WebDriverWait(driver, 60)\n",
    "\n",
    "print(\"Chrome opened successfully!\")\n"
   ]
  },
  {
   "cell_type": "code",
   "execution_count": 121,
   "id": "0f85ac12-64e8-44d4-b463-775cec83777b",
   "metadata": {},
   "outputs": [
    {
     "name": "stdout",
     "output_type": "stream",
     "text": [
      "drive installed successfully\n"
     ]
    }
   ],
   "source": [
    "drive = driver.get('https://web.whatsapp.com/')\n",
    "print('drive installed successfully')\n",
    "\n"
   ]
  },
  {
   "cell_type": "code",
   "execution_count": 116,
   "id": "4a1e7dc6-b2e5-4a26-827d-ca09da9fc3fc",
   "metadata": {},
   "outputs": [
    {
     "data": {
      "text/html": [
       "<div>\n",
       "<style scoped>\n",
       "    .dataframe tbody tr th:only-of-type {\n",
       "        vertical-align: middle;\n",
       "    }\n",
       "\n",
       "    .dataframe tbody tr th {\n",
       "        vertical-align: top;\n",
       "    }\n",
       "\n",
       "    .dataframe thead th {\n",
       "        text-align: right;\n",
       "    }\n",
       "</style>\n",
       "<table border=\"1\" class=\"dataframe\">\n",
       "  <thead>\n",
       "    <tr style=\"text-align: right;\">\n",
       "      <th></th>\n",
       "      <th>Name</th>\n",
       "      <th>contact</th>\n",
       "      <th>message</th>\n",
       "    </tr>\n",
       "  </thead>\n",
       "  <tbody>\n",
       "    <tr>\n",
       "      <th>0</th>\n",
       "      <td>mon Frere</td>\n",
       "      <td>2348037170121</td>\n",
       "      <td>NaN</td>\n",
       "    </tr>\n",
       "    <tr>\n",
       "      <th>1</th>\n",
       "      <td>my number  airtel</td>\n",
       "      <td>2349014374915</td>\n",
       "      <td>heyy</td>\n",
       "    </tr>\n",
       "    <tr>\n",
       "      <th>2</th>\n",
       "      <td>my mtn</td>\n",
       "      <td>8137393440</td>\n",
       "      <td>hello boo</td>\n",
       "    </tr>\n",
       "  </tbody>\n",
       "</table>\n",
       "</div>"
      ],
      "text/plain": [
       "                Name        contact    message\n",
       "0          mon Frere  2348037170121        NaN\n",
       "1  my number  airtel  2349014374915       heyy\n",
       "2             my mtn     8137393440  hello boo"
      ]
     },
     "execution_count": 116,
     "metadata": {},
     "output_type": "execute_result"
    }
   ],
   "source": [
    "message_file = pd.read_excel(r\"C:\\Users\\USER\\Desktop\\Bulk whatsap script.xlsx\")\n",
    "message_file"
   ]
  },
  {
   "cell_type": "code",
   "execution_count": 117,
   "id": "af9d0f35-5ed1-4434-83a3-05934cf06d4d",
   "metadata": {},
   "outputs": [
    {
     "name": "stdout",
     "output_type": "stream",
     "text": [
      "nan\n"
     ]
    }
   ],
   "source": [
    "\n",
    "print(message_file['message'][0])\n",
    "message_file = message_file.fillna('hope you are good?')\n"
   ]
  },
  {
   "cell_type": "code",
   "execution_count": 118,
   "id": "8824f965-8299-42cf-ace9-c0151deafa75",
   "metadata": {},
   "outputs": [
    {
     "data": {
      "text/plain": [
       "'hope you are good?'"
      ]
     },
     "execution_count": 118,
     "metadata": {},
     "output_type": "execute_result"
    }
   ],
   "source": [
    "check_message = message_file['message'][0]\n",
    "check_message"
   ]
  },
  {
   "cell_type": "code",
   "execution_count": 119,
   "id": "37d4d55f-4ce1-496f-889e-1adf59d9e222",
   "metadata": {},
   "outputs": [],
   "source": [
    "\n",
    "contact =  message_file['contact'].tolist()\n",
    "Name =  message_file['Name'].tolist()\n",
    "message =  message_file['message'].tolist()"
   ]
  },
  {
   "cell_type": "code",
   "execution_count": 120,
   "id": "8b857bb6-dff2-484e-91a6-31be3f2abb99",
   "metadata": {},
   "outputs": [
    {
     "ename": "InvalidSelectorException",
     "evalue": "Message: invalid selector\nfrom javascript error: {\"status\":32,\"value\":\"Unable to locate an element with the xpath expression C:\\\\chromedriver-win64\\\\chromedriver.exe because of the following error:\\nSyntaxError: Failed to execute 'evaluate' on 'Document': The string 'C:\\\\chromedriver-win64\\\\chromedriver.exe' is not a valid XPath expression.\"}\n  (Session info: chrome=129.0.6668.59); For documentation on this error, please visit: https://www.selenium.dev/documentation/webdriver/troubleshooting/errors#invalid-selector-exception\nStacktrace:\n\tGetHandleVerifier [0x00007FF794D1FDA5+29557]\n\t(No symbol) [0x00007FF794C92240]\n\t(No symbol) [0x00007FF794B4B6EA]\n\t(No symbol) [0x00007FF794B522BE]\n\t(No symbol) [0x00007FF794B54637]\n\t(No symbol) [0x00007FF794B546F0]\n\t(No symbol) [0x00007FF794B9F58F]\n\t(No symbol) [0x00007FF794B9FC6C]\n\t(No symbol) [0x00007FF794BEBB07]\n\t(No symbol) [0x00007FF794BC753F]\n\t(No symbol) [0x00007FF794BE88A3]\n\t(No symbol) [0x00007FF794BC72A3]\n\t(No symbol) [0x00007FF794B912DF]\n\t(No symbol) [0x00007FF794B92451]\n\tGetHandleVerifier [0x00007FF79504DCBD+3363469]\n\tGetHandleVerifier [0x00007FF795099B47+3674391]\n\tGetHandleVerifier [0x00007FF79508EAEB+3629243]\n\tGetHandleVerifier [0x00007FF794DDFC66+815670]\n\t(No symbol) [0x00007FF794C9D6EF]\n\t(No symbol) [0x00007FF794C992B4]\n\t(No symbol) [0x00007FF794C99450]\n\t(No symbol) [0x00007FF794C881FF]\n\tBaseThreadInitThunk [0x00007FF9D65D257D+29]\n\tRtlUserThreadStart [0x00007FF9D7DAAF28+40]\n",
     "output_type": "error",
     "traceback": [
      "\u001b[1;31m---------------------------------------------------------------------------\u001b[0m",
      "\u001b[1;31mInvalidSelectorException\u001b[0m                  Traceback (most recent call last)",
      "Cell \u001b[1;32mIn[120], line 2\u001b[0m\n\u001b[0;32m      1\u001b[0m \u001b[38;5;28;01mfor\u001b[39;00m i, j, k \u001b[38;5;129;01min\u001b[39;00m \u001b[38;5;28mzip\u001b[39m(contact, Name, message):\n\u001b[1;32m----> 2\u001b[0m     Search \u001b[38;5;241m=\u001b[39m wait\u001b[38;5;241m.\u001b[39muntil(EC\u001b[38;5;241m.\u001b[39melement_to_be_clickable((By\u001b[38;5;241m.\u001b[39mXPATH,\u001b[38;5;124m\"\u001b[39m\u001b[38;5;124mC:\u001b[39m\u001b[38;5;124m\\\u001b[39m\u001b[38;5;124mchromedriver-win64\u001b[39m\u001b[38;5;124m\\\u001b[39m\u001b[38;5;124mchromedriver.exe\u001b[39m\u001b[38;5;124m\"\u001b[39m)))\n\u001b[0;32m      3\u001b[0m     time\u001b[38;5;241m.\u001b[39msleep(\u001b[38;5;241m2\u001b[39m)\n\u001b[0;32m      5\u001b[0m     Search\u001b[38;5;241m.\u001b[39msend_keys(i)\n",
      "File \u001b[1;32m~\\anaconda3\\Lib\\site-packages\\selenium\\webdriver\\support\\wait.py:96\u001b[0m, in \u001b[0;36mWebDriverWait.until\u001b[1;34m(self, method, message)\u001b[0m\n\u001b[0;32m     94\u001b[0m \u001b[38;5;28;01mwhile\u001b[39;00m \u001b[38;5;28;01mTrue\u001b[39;00m:\n\u001b[0;32m     95\u001b[0m     \u001b[38;5;28;01mtry\u001b[39;00m:\n\u001b[1;32m---> 96\u001b[0m         value \u001b[38;5;241m=\u001b[39m method(\u001b[38;5;28mself\u001b[39m\u001b[38;5;241m.\u001b[39m_driver)\n\u001b[0;32m     97\u001b[0m         \u001b[38;5;28;01mif\u001b[39;00m value:\n\u001b[0;32m     98\u001b[0m             \u001b[38;5;28;01mreturn\u001b[39;00m value\n",
      "File \u001b[1;32m~\\anaconda3\\Lib\\site-packages\\selenium\\webdriver\\support\\expected_conditions.py:363\u001b[0m, in \u001b[0;36melement_to_be_clickable.<locals>._predicate\u001b[1;34m(driver)\u001b[0m\n\u001b[0;32m    361\u001b[0m target \u001b[38;5;241m=\u001b[39m mark\n\u001b[0;32m    362\u001b[0m \u001b[38;5;28;01mif\u001b[39;00m \u001b[38;5;129;01mnot\u001b[39;00m \u001b[38;5;28misinstance\u001b[39m(target, WebElement):  \u001b[38;5;66;03m# if given locator instead of WebElement\u001b[39;00m\n\u001b[1;32m--> 363\u001b[0m     target \u001b[38;5;241m=\u001b[39m driver\u001b[38;5;241m.\u001b[39mfind_element(\u001b[38;5;241m*\u001b[39mtarget)  \u001b[38;5;66;03m# grab element at locator\u001b[39;00m\n\u001b[0;32m    364\u001b[0m element \u001b[38;5;241m=\u001b[39m visibility_of(target)(driver)\n\u001b[0;32m    365\u001b[0m \u001b[38;5;28;01mif\u001b[39;00m element \u001b[38;5;129;01mand\u001b[39;00m element\u001b[38;5;241m.\u001b[39mis_enabled():\n",
      "File \u001b[1;32m~\\anaconda3\\Lib\\site-packages\\selenium\\webdriver\\remote\\webdriver.py:748\u001b[0m, in \u001b[0;36mWebDriver.find_element\u001b[1;34m(self, by, value)\u001b[0m\n\u001b[0;32m    745\u001b[0m     by \u001b[38;5;241m=\u001b[39m By\u001b[38;5;241m.\u001b[39mCSS_SELECTOR\n\u001b[0;32m    746\u001b[0m     value \u001b[38;5;241m=\u001b[39m \u001b[38;5;124mf\u001b[39m\u001b[38;5;124m'\u001b[39m\u001b[38;5;124m[name=\u001b[39m\u001b[38;5;124m\"\u001b[39m\u001b[38;5;132;01m{\u001b[39;00mvalue\u001b[38;5;132;01m}\u001b[39;00m\u001b[38;5;124m\"\u001b[39m\u001b[38;5;124m]\u001b[39m\u001b[38;5;124m'\u001b[39m\n\u001b[1;32m--> 748\u001b[0m \u001b[38;5;28;01mreturn\u001b[39;00m \u001b[38;5;28mself\u001b[39m\u001b[38;5;241m.\u001b[39mexecute(Command\u001b[38;5;241m.\u001b[39mFIND_ELEMENT, {\u001b[38;5;124m\"\u001b[39m\u001b[38;5;124musing\u001b[39m\u001b[38;5;124m\"\u001b[39m: by, \u001b[38;5;124m\"\u001b[39m\u001b[38;5;124mvalue\u001b[39m\u001b[38;5;124m\"\u001b[39m: value})[\u001b[38;5;124m\"\u001b[39m\u001b[38;5;124mvalue\u001b[39m\u001b[38;5;124m\"\u001b[39m]\n",
      "File \u001b[1;32m~\\anaconda3\\Lib\\site-packages\\selenium\\webdriver\\remote\\webdriver.py:354\u001b[0m, in \u001b[0;36mWebDriver.execute\u001b[1;34m(self, driver_command, params)\u001b[0m\n\u001b[0;32m    352\u001b[0m response \u001b[38;5;241m=\u001b[39m \u001b[38;5;28mself\u001b[39m\u001b[38;5;241m.\u001b[39mcommand_executor\u001b[38;5;241m.\u001b[39mexecute(driver_command, params)\n\u001b[0;32m    353\u001b[0m \u001b[38;5;28;01mif\u001b[39;00m response:\n\u001b[1;32m--> 354\u001b[0m     \u001b[38;5;28mself\u001b[39m\u001b[38;5;241m.\u001b[39merror_handler\u001b[38;5;241m.\u001b[39mcheck_response(response)\n\u001b[0;32m    355\u001b[0m     response[\u001b[38;5;124m\"\u001b[39m\u001b[38;5;124mvalue\u001b[39m\u001b[38;5;124m\"\u001b[39m] \u001b[38;5;241m=\u001b[39m \u001b[38;5;28mself\u001b[39m\u001b[38;5;241m.\u001b[39m_unwrap_value(response\u001b[38;5;241m.\u001b[39mget(\u001b[38;5;124m\"\u001b[39m\u001b[38;5;124mvalue\u001b[39m\u001b[38;5;124m\"\u001b[39m, \u001b[38;5;28;01mNone\u001b[39;00m))\n\u001b[0;32m    356\u001b[0m     \u001b[38;5;28;01mreturn\u001b[39;00m response\n",
      "File \u001b[1;32m~\\anaconda3\\Lib\\site-packages\\selenium\\webdriver\\remote\\errorhandler.py:229\u001b[0m, in \u001b[0;36mErrorHandler.check_response\u001b[1;34m(self, response)\u001b[0m\n\u001b[0;32m    227\u001b[0m         alert_text \u001b[38;5;241m=\u001b[39m value[\u001b[38;5;124m\"\u001b[39m\u001b[38;5;124malert\u001b[39m\u001b[38;5;124m\"\u001b[39m]\u001b[38;5;241m.\u001b[39mget(\u001b[38;5;124m\"\u001b[39m\u001b[38;5;124mtext\u001b[39m\u001b[38;5;124m\"\u001b[39m)\n\u001b[0;32m    228\u001b[0m     \u001b[38;5;28;01mraise\u001b[39;00m exception_class(message, screen, stacktrace, alert_text)  \u001b[38;5;66;03m# type: ignore[call-arg]  # mypy is not smart enough here\u001b[39;00m\n\u001b[1;32m--> 229\u001b[0m \u001b[38;5;28;01mraise\u001b[39;00m exception_class(message, screen, stacktrace)\n",
      "\u001b[1;31mInvalidSelectorException\u001b[0m: Message: invalid selector\nfrom javascript error: {\"status\":32,\"value\":\"Unable to locate an element with the xpath expression C:\\\\chromedriver-win64\\\\chromedriver.exe because of the following error:\\nSyntaxError: Failed to execute 'evaluate' on 'Document': The string 'C:\\\\chromedriver-win64\\\\chromedriver.exe' is not a valid XPath expression.\"}\n  (Session info: chrome=129.0.6668.59); For documentation on this error, please visit: https://www.selenium.dev/documentation/webdriver/troubleshooting/errors#invalid-selector-exception\nStacktrace:\n\tGetHandleVerifier [0x00007FF794D1FDA5+29557]\n\t(No symbol) [0x00007FF794C92240]\n\t(No symbol) [0x00007FF794B4B6EA]\n\t(No symbol) [0x00007FF794B522BE]\n\t(No symbol) [0x00007FF794B54637]\n\t(No symbol) [0x00007FF794B546F0]\n\t(No symbol) [0x00007FF794B9F58F]\n\t(No symbol) [0x00007FF794B9FC6C]\n\t(No symbol) [0x00007FF794BEBB07]\n\t(No symbol) [0x00007FF794BC753F]\n\t(No symbol) [0x00007FF794BE88A3]\n\t(No symbol) [0x00007FF794BC72A3]\n\t(No symbol) [0x00007FF794B912DF]\n\t(No symbol) [0x00007FF794B92451]\n\tGetHandleVerifier [0x00007FF79504DCBD+3363469]\n\tGetHandleVerifier [0x00007FF795099B47+3674391]\n\tGetHandleVerifier [0x00007FF79508EAEB+3629243]\n\tGetHandleVerifier [0x00007FF794DDFC66+815670]\n\t(No symbol) [0x00007FF794C9D6EF]\n\t(No symbol) [0x00007FF794C992B4]\n\t(No symbol) [0x00007FF794C99450]\n\t(No symbol) [0x00007FF794C881FF]\n\tBaseThreadInitThunk [0x00007FF9D65D257D+29]\n\tRtlUserThreadStart [0x00007FF9D7DAAF28+40]\n"
     ]
    }
   ],
   "source": [
    "for i, j, k in zip(contact, Name, message):\n",
    "    Search = wait.until(EC.element_to_be_clickable((By.XPATH,\"C:\\chromedriver-win64\\chromedriver.exe\")))\n",
    "    time.sleep(2)\n",
    "\n",
    "    Search.send_keys(i)\n",
    "    time.sleep(1)\n",
    "    Search.send_keys(Keys.ENTER)\n",
    "    time.sleep(3)\n",
    "\n",
    "    Message = driver.find_elements_by_xpath('//*[@id=\"main\"]/footer/div[1]/div[2]/div/div[2]')[0]\n",
    "    time.sleep(2)\n",
    "\n",
    "    Message.send_keys('Hello ' + str(j) + ',')\n",
    "    time.sleep(1)\n",
    "    Message.send_keys(Keys.SHIFT, Keys.ENTER)\n",
    "    Message.send_keys(Keys.SHIFT, Keys.ENTER)\n",
    "    Message.send_keys('This is just a test to see if you got a variable message ' + str(k))\n",
    "    time.sleep(1)\n",
    "    Message.send_keys(Keys.ENTER)\n",
    "    print('Sent to ' + str(j))"
   ]
  },
  {
   "cell_type": "markdown",
   "id": "f80a7b93-fa69-4dcd-a641-69c1c7f44a90",
   "metadata": {
    "jp-MarkdownHeadingCollapsed": true
   },
   "source": [
    "for name in message_file['Name'].tolist():\n",
    "    # Locate search box through x_path\n",
    "    search_box = '//*[@id=\"side\"]/div[1]/div/label/div/div[2]'\n",
    "    title = wait.until(lambda driver: driver.find_element(By.XPATH, search_box))\n",
    "\n",
    "    # Clear search box if any contact number is in it\n",
    "    title.clear()\n",
    "\n",
    "    # Send contact number in search box\n",
    "    title.send_keys(str(message_file['contact'][count]))\n",
    "    count = count + 1\n",
    "\n",
    "    # Wait for 4 seconds to search contact number\n",
    "    time.sleep(4)\n",
    "\n",
    "    try:\n",
    "        element = driver.find_element_by_xpath('//*[@id=\"pane-side\"]/div[1]/div/span')\n",
    "    except NoSuchElementException:\n",
    "        message = message.replace('{name}',\"{}\")\n",
    "        new_message = message.format(name)\n",
    "        \n",
    "        title.send_keys(Keys.ENTER)\n",
    "        actions = ActionChains(driver)\n",
    "        actions.send_keys(new_message)\n",
    "        actions.send_keys(Keys.ENTER)\n",
    "        actions.perform()\n",
    "\n",
    "# end the instance of chromedriver or any driver used\n",
    "driver.quit()"
   ]
  },
  {
   "cell_type": "code",
   "execution_count": null,
   "id": "e1e7cc9e-e9ad-4f46-9289-de8c386a1686",
   "metadata": {},
   "outputs": [],
   "source": [
    "from selenium import webdriver\n",
    "from selenium.webdriver.common.by import By\n",
    "from selenium.webdriver.support.ui import WebDriverWait\n",
    "from selenium.webdriver.support import expected_conditions as EC\n",
    "from selenium.webdriver.chrome.service import Service\n",
    "from webdriver_manager.chrome import ChromeDriverManager\n",
    "\n",
    "# Initialize WebDriver\n",
    "driver = webdriver.Chrome(service=Service(ChromeDriverManager().install()))\n",
    "wait = WebDriverWait(driver, 10)\n",
    "\n",
    "# Assuming message_file is a pandas DataFrame\n",
    "for index, row in message_file.iterrows():\n",
    "    name = row['Name']        # Get the name\n",
    "    contact = row['contact']  # Get the contact number\n",
    "\n",
    "    # Locate search box by its XPath\n",
    "    search_box_xpath = '//*[@id=\"side\"]/div[1]/div/label/div/div[2]'\n",
    "    \n",
    "    # Wait until search box is present\n",
    "    search_box = wait.until(EC.presence_of_element_located((By.XPATH, search_box_xpath)))\n",
    "    \n",
    "    # Clear any existing text in the search box\n",
    "    search_box.clear()\n",
    "    \n",
    "    # Send contact number to the search box\n",
    "    search_box.send_keys(str(contact))\n",
    "\n",
    "# Close the driver after the loop finishes (or in case of an error, use a try-except block)\n",
    "driver.quit()\n"
   ]
  }
 ],
 "metadata": {
  "kernelspec": {
   "display_name": "Python 3 (ipykernel)",
   "language": "python",
   "name": "python3"
  },
  "language_info": {
   "codemirror_mode": {
    "name": "ipython",
    "version": 3
   },
   "file_extension": ".py",
   "mimetype": "text/x-python",
   "name": "python",
   "nbconvert_exporter": "python",
   "pygments_lexer": "ipython3",
   "version": "3.11.7"
  }
 },
 "nbformat": 4,
 "nbformat_minor": 5
}
